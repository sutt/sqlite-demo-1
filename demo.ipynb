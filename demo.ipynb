{
 "cells": [
  {
   "cell_type": "code",
   "execution_count": null,
   "metadata": {},
   "outputs": [],
   "source": [
    "'''\n",
    "Ideas:\n",
    "https://blog.turso.tech/dear-application-developer-how-far-can-you-really-go-without-a-message-queue-d9e5385fab64\n",
    "https://www.sqlitetutorial.net/sqlite-php/create-tables/\n",
    " - sqlite \n",
    "   - looking at .commit()\n",
    "   - looking at .rollback() ?\n",
    "   - must use semi-colons ?\n",
    " - sqlite for interprocess communication\n",
    "    - interproc comm with a file\n",
    "    - is this a bad idea due to multiple cursors?\n",
    " extras:\n",
    "   - sending each other our databases\n",
    "   - using pandas with sqlite\n",
    " - \n",
    "\n",
    "'''"
   ]
  },
  {
   "attachments": {},
   "cell_type": "markdown",
   "metadata": {},
   "source": [
    "### The most basic sqlite example"
   ]
  },
  {
   "cell_type": "code",
   "execution_count": 2,
   "metadata": {},
   "outputs": [],
   "source": [
    "import sqlite3"
   ]
  },
  {
   "cell_type": "code",
   "execution_count": 3,
   "metadata": {},
   "outputs": [],
   "source": [
    "# create a database connection\n",
    "conn = sqlite3.connect('safe.db')\n"
   ]
  },
  {
   "cell_type": "code",
   "execution_count": 4,
   "metadata": {},
   "outputs": [
    {
     "data": {
      "text/plain": [
       "' \\n\\n multi line\\n\\n stirng\\n\\n limit 10\\n\\n'"
      ]
     },
     "execution_count": 4,
     "metadata": {},
     "output_type": "execute_result"
    }
   ],
   "source": [
    "s = \"\"\" \n",
    "\n",
    " multi line\n",
    "\n",
    " stirng\n",
    "\n",
    " limit 10\n",
    "\n",
    "\"\"\"\n",
    "s"
   ]
  },
  {
   "cell_type": "code",
   "execution_count": 5,
   "metadata": {},
   "outputs": [],
   "source": [
    "# DDL - create a table\n",
    "# https://www.sqlitetutorial.net/sqlite-python/create-tables/\n",
    "q = '''\n",
    "CREATE TABLE IF NOT EXISTS users (\n",
    "    id integer PRIMARY KEY,\n",
    "    name text NOT NULL,\n",
    "    email text NOT NULL UNIQUE\n",
    ");\n",
    "'''\n"
   ]
  },
  {
   "cell_type": "code",
   "execution_count": 6,
   "metadata": {},
   "outputs": [],
   "source": [
    "c = conn.cursor()\n",
    "c.execute(q)\n",
    "conn.commit()"
   ]
  },
  {
   "cell_type": "code",
   "execution_count": 7,
   "metadata": {},
   "outputs": [],
   "source": [
    "# insert data\n",
    "q = '''\n",
    "INSERT INTO users (name, email)\n",
    "VALUES ('John', 'jsmith@dev-10.com')\n",
    "'''\n"
   ]
  },
  {
   "cell_type": "code",
   "execution_count": 8,
   "metadata": {},
   "outputs": [],
   "source": [
    "c = conn.cursor()\n",
    "c.execute(q)\n",
    "conn.commit()"
   ]
  },
  {
   "cell_type": "code",
   "execution_count": 12,
   "metadata": {},
   "outputs": [
    {
     "name": "stdout",
     "output_type": "stream",
     "text": [
      "(1, 'John', 'jsmith@dev-10.com')\n"
     ]
    }
   ],
   "source": [
    "\n",
    "# create a cursor object\n",
    "cur = conn.cursor()\n",
    "\n",
    "# execute a query\n",
    "cur.execute(\"SELECT * FROM users LIMIT 10;\")\n",
    "\n",
    "# fetch all rows from the result set\n",
    "rows = cur.fetchall()\n",
    "\n",
    "# print each row\n",
    "for row in rows:\n",
    "    print(row)"
   ]
  },
  {
   "cell_type": "code",
   "execution_count": 13,
   "metadata": {},
   "outputs": [],
   "source": [
    "# insert multiple values to users\n",
    "users = [\n",
    "    ('Jane', 'jx@dev-10.com'),\n",
    "    ('Joe', 'jz@dev-10.com'),\n",
    "]\n",
    "\n",
    "q = '''\n",
    "INSERT INTO users (name, email)\n",
    "VALUES (?, ?)\n",
    "'''\n",
    "\n",
    "c = conn.cursor()\n",
    "c.executemany(q, users)\n",
    "conn.commit()"
   ]
  },
  {
   "cell_type": "code",
   "execution_count": null,
   "metadata": {},
   "outputs": [],
   "source": []
  },
  {
   "cell_type": "code",
   "execution_count": null,
   "metadata": {},
   "outputs": [],
   "source": []
  },
  {
   "attachments": {},
   "cell_type": "markdown",
   "metadata": {},
   "source": [
    "### Hashing as a randomizing yet deterministic function"
   ]
  },
  {
   "cell_type": "code",
   "execution_count": 1,
   "metadata": {},
   "outputs": [
    {
     "name": "stdout",
     "output_type": "stream",
     "text": [
      "<class 'str'> <class 'bytes'>\n"
     ]
    },
    {
     "data": {
      "text/plain": [
       "('hey', b'hey')"
      ]
     },
     "execution_count": 1,
     "metadata": {},
     "output_type": "execute_result"
    }
   ],
   "source": [
    "s = \"hey\"\n",
    "\n",
    "b = bytes(s, 'utf-8')\n",
    "\n",
    "print(type(s), type(b))\n",
    "s, b"
   ]
  },
  {
   "cell_type": "code",
   "execution_count": 10,
   "metadata": {},
   "outputs": [
    {
     "data": {
      "text/plain": [
       "'9e1b04359ce9f650852b7f468eb9cbaa8198d8678a7ddce5caaeb123b76439ff'"
      ]
     },
     "execution_count": 10,
     "metadata": {},
     "output_type": "execute_result"
    }
   ],
   "source": [
    "# take a sha256\n",
    "import hashlib\n",
    "output = hashlib.sha256(b'hello world ').hexdigest()\n",
    "output"
   ]
  },
  {
   "cell_type": "code",
   "execution_count": 21,
   "metadata": {},
   "outputs": [
    {
     "data": {
      "text/plain": [
       "str"
      ]
     },
     "execution_count": 21,
     "metadata": {},
     "output_type": "execute_result"
    }
   ],
   "source": [
    "type(output)"
   ]
  },
  {
   "cell_type": "code",
   "execution_count": 11,
   "metadata": {},
   "outputs": [],
   "source": [
    "import string"
   ]
  },
  {
   "cell_type": "code",
   "execution_count": 20,
   "metadata": {},
   "outputs": [
    {
     "data": {
      "text/plain": [
       "['x', 'e', 'j', 'c', 'h', 'r', 'b', 'k', 'q', 'n']"
      ]
     },
     "execution_count": 20,
     "metadata": {},
     "output_type": "execute_result"
    }
   ],
   "source": [
    "# import ascii characters\n",
    "import string\n",
    "import random\n",
    "string.printable\n",
    "random.sample(string.ascii_lowercase, 10)\n",
    "\n"
   ]
  },
  {
   "cell_type": "code",
   "execution_count": 23,
   "metadata": {},
   "outputs": [
    {
     "data": {
      "text/plain": [
       "'7a97d9d9a260d16843404e1da8cb9ba97e4b42cf3c62d5b699077c0d29bc1067'"
      ]
     },
     "execution_count": 23,
     "metadata": {},
     "output_type": "execute_result"
    }
   ],
   "source": [
    "def hash_msg(msg='coding everyday is fun'):\n",
    "    nonce_list = random.sample(string.ascii_lowercase, 10)\n",
    "    nonce = ''.join(nonce_list)\n",
    "    nonce + msg\n",
    "    b_nonce_msg = bytes(nonce + msg, 'utf-8')\n",
    "    output = hashlib.sha256(b_nonce_msg).hexdigest()\n",
    "    return output, nonce\n",
    "\n",
    "output, nonce = hash_msg()\n",
    "output\n"
   ]
  },
  {
   "cell_type": "code",
   "execution_count": 24,
   "metadata": {},
   "outputs": [
    {
     "name": "stdout",
     "output_type": "stream",
     "text": [
      "f798a45ee4d616b585fdffc743f323483eec613e545ef001205272adcced425f\n",
      "77a55a62963f8b32ec67bc2e117456905a15ed5fff20b22425b12ae31d0353a5\n",
      "b048c46a5a27aa62b51fbc98d65bddd8a3d6f3ca5d4ff37922e19ab01f5f7f38\n",
      "91a5259b0d0688d8c08f76c745d02953b16da54819e291fedce52735f532e2a4\n",
      "f0e707802c78125eb669bfc5b34588dcd2652048beeca5ba02ea1d90f692c73c\n",
      "1b2a6349c2e10463317b3f623e36c574dcc5a5c10f91ff21153070fa75b99633\n",
      "c9ee8af967324029745472eb9d1e9af22dcf9f30d248673f8b31b286e8a386a3\n",
      "3a366081b0dd89ee9223d6fb301d70b7c49a10e731e4f6da8ea61ed4c870d87e\n",
      "fdc6b4c1949b2301d62142306ade7708ee55a611729339033227782d6cb60934\n",
      "a0cbd53e19e3e503e5e9edd6299b52dfe55336eb3b6dd7b4d77dc3bad4f632e8\n",
      "6e1506b5ebfde2d561a25ba6f01478d3b7b9575b38b4c2d8a37ddf68326c9178\n",
      "7dde6b23ae77dd21fbf57df07a74946636f4ccfae4e683a0c1cf5237eead7a99\n",
      "fec73d94ee27dfa6bfe47c2017e89493cf55f07f4831b5abc6c87056daed7555\n",
      "5c6e97b30f2633fc95fb95fd53b6ce402e6dead4125c67e864e4acdd419ec25b\n",
      "760f4f1ad082ebd76e906ed15f6db65ba5e63810b361f590ab1e227ee3fee580\n",
      "8c75b24a87cebd5f0483536fdf7dbe02817fb42606587a72fc23854de2a89e13\n",
      "4a231b3542e4e32c1c4e0e0357ac7e18ac8743564d34562d7172674e1ef39951\n",
      "11d1ca6f3d80d7a2a30fc186ed3a1d98b33e3109093330b42fe9b999ed3a8069\n",
      "c2d0998738756538e33d9b55ab7364c0fb617991103024dd5eb53bc50286d5fb\n",
      "f020fef885d4bdb8b6639a26a267773a6748f5c3a7724c6c369c4f3c03327a6b\n",
      "a8d2e6ddec4bc8d5f38f851f4b3e849d87213737e745f94edf04ef6abb9c8514\n",
      "917fd6686c663d7a016bcd8e65ef347c66d33f1798bfa71e46199389c85235b4\n",
      "4537e52e02fee20a8ebf683909796568489cb7c3e7b6cc96839a4b344601f986\n",
      "af7a1860629303302a817b7ff252748074a84c9f4e7e028cf93edbc9fc30135e\n",
      "567231ef51131ac763f67addc0c1915cf1901a5d56b000201ab6b05fa20e0de3\n",
      "a0c3e27574b10c4cf1ebf0bb973346893ce46767e17ddc2e1529a704602dde28\n",
      "caff84b4c80af46484a5db80e82768d36efc4ff400b5b7a3200850b7767eaafc\n",
      "989c3fa53fa24f74a9664ef836eca07d0d3f27ed295a91c28a97481a0226e4af\n",
      "0fe48180cc61620345d9d52db0c8a82c5f122eec608578924a80698317f72dd2\n",
      "\n",
      " bingo! \n",
      "\n",
      "0fe48180cc61620345d9d52db0c8a82c5f122eec608578924a80698317f72dd2\n",
      "vimlcxyung\n"
     ]
    }
   ],
   "source": [
    "while True:\n",
    "    output, nonce = hash_msg()\n",
    "    print(output)\n",
    "    if output[0] == '0':\n",
    "        print('\\n bingo! \\n')\n",
    "        print(output)\n",
    "        print(nonce)\n",
    "        break"
   ]
  },
  {
   "cell_type": "code",
   "execution_count": 27,
   "metadata": {},
   "outputs": [
    {
     "name": "stdout",
     "output_type": "stream",
     "text": [
      "1 0.0625\n",
      "2 0.00390625\n",
      "3 0.000244140625\n",
      "4 1.52587890625e-05\n",
      "5 9.5367431640625e-07\n",
      "6 5.960464477539063e-08\n"
     ]
    }
   ],
   "source": [
    "p = 1/16\n",
    "for i in range(1,7):\n",
    "    print(i, p ** i)"
   ]
  },
  {
   "cell_type": "code",
   "execution_count": null,
   "metadata": {},
   "outputs": [],
   "source": [
    "\n",
    "b_nonce_msg = bytes(nonce + msg, 'utf-8')"
   ]
  },
  {
   "cell_type": "code",
   "execution_count": 25,
   "metadata": {},
   "outputs": [
    {
     "data": {
      "text/plain": [
       "'0fe48180cc61620345d9d52db0c8a82c5f122eec608578924a80698317f72dd2'"
      ]
     },
     "execution_count": 25,
     "metadata": {},
     "output_type": "execute_result"
    }
   ],
   "source": [
    "nonce = 'vimlcxyung'\n",
    "msg='coding everyday is fun'\n",
    "b_nonce_msg = bytes(nonce + msg, 'utf-8')\n",
    "output = hashlib.sha256(b_nonce_msg).hexdigest()\n",
    "output"
   ]
  },
  {
   "cell_type": "code",
   "execution_count": null,
   "metadata": {},
   "outputs": [],
   "source": [
    "def hash_msg(msg='coding everyday is fun'):\n",
    "    nonce_list = random.sample(string.ascii_lowercase, 10)\n",
    "    nonce = ''.join(nonce_list)\n",
    "    nonce + msg\n",
    "    b_nonce_msg = bytes(nonce + msg, 'utf-8')\n",
    "    output = hashlib.sha256(b_nonce_msg).hexdigest()\n",
    "    return output, nonce\n",
    "\n",
    "output, nonce = hash_msg()\n",
    "output"
   ]
  },
  {
   "cell_type": "code",
   "execution_count": null,
   "metadata": {},
   "outputs": [],
   "source": [
    "\n",
    "string.ascii_lowercase\n",
    "\n",
    "string.ascii_uppercase\n",
    "string.digits"
   ]
  },
  {
   "cell_type": "code",
   "execution_count": null,
   "metadata": {},
   "outputs": [],
   "source": []
  }
 ],
 "metadata": {
  "kernelspec": {
   "display_name": "base",
   "language": "python",
   "name": "python3"
  },
  "language_info": {
   "codemirror_mode": {
    "name": "ipython",
    "version": 3
   },
   "file_extension": ".py",
   "mimetype": "text/x-python",
   "name": "python",
   "nbconvert_exporter": "python",
   "pygments_lexer": "ipython3",
   "version": "3.9.7"
  },
  "orig_nbformat": 4
 },
 "nbformat": 4,
 "nbformat_minor": 2
}
