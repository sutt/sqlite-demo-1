{
 "cells": [
  {
   "cell_type": "code",
   "execution_count": null,
   "metadata": {},
   "outputs": [],
   "source": [
    "'''\n",
    "Ideas:\n",
    "https://blog.turso.tech/dear-application-developer-how-far-can-you-really-go-without-a-message-queue-d9e5385fab64\n",
    "https://www.sqlitetutorial.net/sqlite-php/create-tables/\n",
    " - sqlite \n",
    "   - looking at .commit()\n",
    "   - looking at .rollback() ?\n",
    "   - must use semi-colons ?\n",
    " - sqlite for interprocess communication\n",
    "    - interproc comm with a file\n",
    "    - is this a bad idea due to multiple cursors?\n",
    " extras:\n",
    "   - sending each other our databases\n",
    "   - using pandas with sqlite\n",
    " - \n",
    "\n",
    "'''"
   ]
  },
  {
   "attachments": {},
   "cell_type": "markdown",
   "metadata": {},
   "source": [
    "### The most basic sqlite example"
   ]
  },
  {
   "cell_type": "code",
   "execution_count": 2,
   "metadata": {},
   "outputs": [],
   "source": [
    "import sqlite3"
   ]
  },
  {
   "cell_type": "code",
   "execution_count": 3,
   "metadata": {},
   "outputs": [],
   "source": [
    "# create a database connection\n",
    "conn = sqlite3.connect('safe.db')\n"
   ]
  },
  {
   "cell_type": "code",
   "execution_count": 4,
   "metadata": {},
   "outputs": [
    {
     "data": {
      "text/plain": [
       "' \\n\\n multi line\\n\\n stirng\\n\\n limit 10\\n\\n'"
      ]
     },
     "execution_count": 4,
     "metadata": {},
     "output_type": "execute_result"
    }
   ],
   "source": [
    "s = \"\"\" \n",
    "\n",
    " multi line\n",
    "\n",
    " stirng\n",
    "\n",
    " limit 10\n",
    "\n",
    "\"\"\"\n",
    "s"
   ]
  },
  {
   "cell_type": "code",
   "execution_count": 5,
   "metadata": {},
   "outputs": [],
   "source": [
    "# DDL - create a table\n",
    "# https://www.sqlitetutorial.net/sqlite-python/create-tables/\n",
    "q = '''\n",
    "CREATE TABLE IF NOT EXISTS users (\n",
    "    id integer PRIMARY KEY,\n",
    "    name text NOT NULL,\n",
    "    email text NOT NULL UNIQUE\n",
    ");\n",
    "'''\n"
   ]
  },
  {
   "cell_type": "code",
   "execution_count": 6,
   "metadata": {},
   "outputs": [],
   "source": [
    "c = conn.cursor()\n",
    "c.execute(q)\n",
    "conn.commit()"
   ]
  },
  {
   "cell_type": "code",
   "execution_count": 7,
   "metadata": {},
   "outputs": [],
   "source": [
    "# insert data\n",
    "q = '''\n",
    "INSERT INTO users (name, email)\n",
    "VALUES ('John', 'jsmith@dev-10.com')\n",
    "'''\n"
   ]
  },
  {
   "cell_type": "code",
   "execution_count": 8,
   "metadata": {},
   "outputs": [],
   "source": [
    "c = conn.cursor()\n",
    "c.execute(q)\n",
    "conn.commit()"
   ]
  },
  {
   "cell_type": "code",
   "execution_count": 12,
   "metadata": {},
   "outputs": [
    {
     "name": "stdout",
     "output_type": "stream",
     "text": [
      "(1, 'John', 'jsmith@dev-10.com')\n"
     ]
    }
   ],
   "source": [
    "\n",
    "# create a cursor object\n",
    "cur = conn.cursor()\n",
    "\n",
    "# execute a query\n",
    "cur.execute(\"SELECT * FROM users LIMIT 10;\")\n",
    "\n",
    "# fetch all rows from the result set\n",
    "rows = cur.fetchall()\n",
    "\n",
    "# print each row\n",
    "for row in rows:\n",
    "    print(row)"
   ]
  },
  {
   "cell_type": "code",
   "execution_count": 13,
   "metadata": {},
   "outputs": [],
   "source": [
    "# insert multiple values to users\n",
    "users = [\n",
    "    ('Jane', 'jx@dev-10.com'),\n",
    "    ('Joe', 'jz@dev-10.com'),\n",
    "]\n",
    "\n",
    "q = '''\n",
    "INSERT INTO users (name, email)\n",
    "VALUES (?, ?)\n",
    "'''\n",
    "\n",
    "c = conn.cursor()\n",
    "c.executemany(q, users)\n",
    "conn.commit()"
   ]
  },
  {
   "cell_type": "code",
   "execution_count": null,
   "metadata": {},
   "outputs": [],
   "source": []
  },
  {
   "cell_type": "code",
   "execution_count": null,
   "metadata": {},
   "outputs": [],
   "source": []
  },
  {
   "attachments": {},
   "cell_type": "markdown",
   "metadata": {},
   "source": [
    "### Hashing as a randomizing yet deterministic function"
   ]
  },
  {
   "cell_type": "code",
   "execution_count": 15,
   "metadata": {},
   "outputs": [
    {
     "name": "stdout",
     "output_type": "stream",
     "text": [
      "<class 'str'> <class 'bytes'>\n"
     ]
    },
    {
     "data": {
      "text/plain": [
       "('hey', b'hey')"
      ]
     },
     "execution_count": 15,
     "metadata": {},
     "output_type": "execute_result"
    }
   ],
   "source": [
    "s = \"hey\"\n",
    "\n",
    "b = bytes(s, 'utf-8')\n",
    "\n",
    "print(type(s), type(b))\n",
    "s, b"
   ]
  },
  {
   "cell_type": "code",
   "execution_count": 14,
   "metadata": {},
   "outputs": [
    {
     "data": {
      "text/plain": [
       "'b94d27b9934d3e08a52e52d7da7dabfac484efe37a5380ee9088f7ace2efcde9'"
      ]
     },
     "execution_count": 14,
     "metadata": {},
     "output_type": "execute_result"
    }
   ],
   "source": [
    "# take a sha256\n",
    "import hashlib\n",
    "output = hashlib.sha256(b'hello world').hexdigest()\n",
    "output"
   ]
  },
  {
   "cell_type": "code",
   "execution_count": null,
   "metadata": {},
   "outputs": [],
   "source": []
  },
  {
   "cell_type": "code",
   "execution_count": 21,
   "metadata": {},
   "outputs": [
    {
     "data": {
      "text/plain": [
       "str"
      ]
     },
     "execution_count": 21,
     "metadata": {},
     "output_type": "execute_result"
    }
   ],
   "source": [
    "type(output)"
   ]
  },
  {
   "cell_type": "code",
   "execution_count": 25,
   "metadata": {},
   "outputs": [
    {
     "data": {
      "text/plain": [
       "['\\x0c', ')', '.', 'l', 'b', 'd', '$', 'B', 'R', '-']"
      ]
     },
     "execution_count": 25,
     "metadata": {},
     "output_type": "execute_result"
    }
   ],
   "source": [
    "# import ascii characters\n",
    "import string\n",
    "import random\n",
    "string.printable\n",
    "random.sample(string.printable, 10)\n",
    "\n"
   ]
  },
  {
   "cell_type": "code",
   "execution_count": 51,
   "metadata": {},
   "outputs": [
    {
     "data": {
      "text/plain": [
       "'1beb51f03d3f22861055b541e1acbbba7aba6d0ccec2ea5216194c795fabe7c5'"
      ]
     },
     "execution_count": 51,
     "metadata": {},
     "output_type": "execute_result"
    }
   ],
   "source": [
    "def hash_msg(msg='coding everyday is fun'):\n",
    "    nonce_list = random.sample(string.ascii_lowercase, 10)\n",
    "    nonce = ''.join(nonce_list)\n",
    "    nonce + msg\n",
    "    b_nonce_msg = bytes(nonce + msg, 'utf-8')\n",
    "    output = hashlib.sha256(b_nonce_msg).hexdigest()\n",
    "    return output, nonce\n",
    "\n",
    "output, nonce = hash_msg()\n",
    "output\n"
   ]
  },
  {
   "cell_type": "code",
   "execution_count": 52,
   "metadata": {},
   "outputs": [
    {
     "name": "stdout",
     "output_type": "stream",
     "text": [
      "ee6781791cbc009c75fe378c2114cea36fe5609eb801383aef1b6fe203209614\n",
      "388150af98a860c0af4244166cceb36b8cca989067c95543a608bf4bb24ea3c9\n",
      "7d4f040c3603bfe1eff12c62aa7df762e14a567f7036b4b2e6b706265ace410b\n",
      "86f0c878b472b77ede1e8faaf94465160c9887dec715d8b08bb97b5d4f984d13\n",
      "d3a33394c4f1aa709149eef9ba02c2e93d3c1831883a2cb429c1e95a8a4cf30d\n",
      "65330c0cfcffea846ea8e7323bd3e84712d507be7b7e7e9af06dc96483ad3e41\n",
      "14b6cbc3574e18db8e8143e1528f72e39ed7ace8421af6bce2e10e4a751b80e7\n",
      "17fad711e0f2fc329adbbe656eda4bb3e84b301996ba0fe1b02fac15fb02ac66\n",
      "8432c8862c9324216d354fc2a5e3a5e1909e9ff03960839ae0021afee1aa0712\n",
      "ee723e0e1705f6f587642f4ced5cbc3214762f5395e9b7a802890c62019399ea\n",
      "54f746e261945fb98733ec459fdd3abd30a72cc9cf40ad994ead6cf8bb044b0f\n",
      "ea6a7cd5339d5e08e5281f87b84951cced81d7b08560d897ad8b522454f0172d\n",
      "d4358799c609d8eca38ecd9ea576a2162b736e5ee32eee34ed385bb72785659d\n",
      "6b3669e35e4bcf1266dc6f70b45b6fce65b5876366b29aa24dee89bd3c922a54\n",
      "cff9f289517015234ff023d358b4d3890c1f92aa24ad53f17c39a9dd92b4504b\n",
      "fe698404552af5ff850ab31105ba451fe6e19d9eb84609325a61a9c1f727a866\n",
      "d79249c7722f0733059d61d9e86ccd71beeaeaed44d50ca592ac1f35cda8c0c5\n",
      "96bd898f9eaceb4310b3bd205ff170ce9926252712373997069c35d6612a88eb\n",
      "adb26692424edbb99eee2f1cbcfdba03204cbbef6adb61fe2e9ac85a11c1d6bf\n",
      "918e24ed571d7903c972013dac32c45e5c067bfab77574681a64912a062d5dd8\n",
      "dc2f42c108acb9ee978dcf9072796ebb7a507da8ba19f516bf94fb65addd4966\n",
      "d974a4d7c41adcbe16e6686b74b7b9118a81d04ac2bf401672cd5db1aff1e57a\n",
      "93dc2f990ec36beb8ad955d99aadf8a3d37a0257a51eee9664790a506e62862f\n",
      "351c582742f51a94bd36140077f59da4364f970098f3e4cc41db425c255322ec\n",
      "983c1f297e85f21ac3db7d0766656d4b5c41bebad62b7f191185d8f43db50b7f\n",
      "1a5eeb620da6bcb5288138afbf8a7b3338f7d9ef99b0d0817c302dd6c8dbcd05\n",
      "3090365e3c7200f03d0a8f9b72fe7ef70f20c19f925652f02815b4cb7976a366\n",
      "968c1c896092685275904f5b8a44c942fbd19a2088b0e94e397c61a92a8ced50\n",
      "10c8f505e59661b59d6bec36664ae6cfe01c86b893c0c8c2fe84143692d07833\n",
      "188f073960397027acebd0c06728eb87c520061ade698a02e29493b1c2e2a379\n",
      "8305de035b5d5071e6d3e8720081349ed8390659457a308620919a708e5721e7\n",
      "2b264f4aa1c3cfa068672fa9704c45de79bec1cdb333508d418798004952595d\n",
      "bf25ac855fe18ab4d11fefdb12f99f1cb30d435136db0686e05f3d311e2b3f7b\n",
      "1bca93f1e95c0d828efb1d88572d88a2ab0427cb98c76283d515543e414c8fb7\n",
      "90fd31f39a80a7376c5dbe234c9cb46dba714085e245d3d25bef15f382069dec\n",
      "e7b99baf59e050457830d43434f3d1812f67ce6a85affb7828de453a57851a12\n",
      "c6727c6f640686c9723a9ec11b5d2fafc5a269f4d9a266f2f218384be6ec64b3\n",
      "a3808d174789644b83831e44d276ce8a0d88f43ea68bcc8b5c6b96c0dc06d97e\n",
      "04f1e8a93a7745ec9ec9738b60d3cc17a88da929219c23a001a0ae56e9952c63\n",
      "\n",
      " bingo! \n",
      "\n",
      "04f1e8a93a7745ec9ec9738b60d3cc17a88da929219c23a001a0ae56e9952c63\n",
      "xpsedzlmru\n"
     ]
    }
   ],
   "source": [
    "while True:\n",
    "    output, nonce = hash_msg()\n",
    "    print(output)\n",
    "    if output[0] == '0':\n",
    "        print('\\n bingo! \\n')\n",
    "        print(output)\n",
    "        print(nonce)\n",
    "        break"
   ]
  },
  {
   "cell_type": "code",
   "execution_count": null,
   "metadata": {},
   "outputs": [],
   "source": [
    "\n",
    "string.ascii_lowercase\n",
    "\n",
    "string.ascii_uppercase\n",
    "string.digits"
   ]
  },
  {
   "cell_type": "code",
   "execution_count": null,
   "metadata": {},
   "outputs": [],
   "source": []
  }
 ],
 "metadata": {
  "kernelspec": {
   "display_name": "base",
   "language": "python",
   "name": "python3"
  },
  "language_info": {
   "codemirror_mode": {
    "name": "ipython",
    "version": 3
   },
   "file_extension": ".py",
   "mimetype": "text/x-python",
   "name": "python",
   "nbconvert_exporter": "python",
   "pygments_lexer": "ipython3",
   "version": "3.9.7"
  },
  "orig_nbformat": 4
 },
 "nbformat": 4,
 "nbformat_minor": 2
}
